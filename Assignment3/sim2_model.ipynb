{
 "cells": [
  {
   "cell_type": "code",
   "execution_count": 17,
   "id": "9590d7b4-06dc-413a-bdd8-a31af2ace879",
   "metadata": {},
   "outputs": [],
   "source": [
    "import numpy as np\n",
    "import tensorflow as tf\n",
    "import keras\n",
    "from keras import models\n",
    "import keras.layers as kl\n",
    "from keras.layers.convolutional import Conv1D\n",
    "from keras.models import Sequential\n",
    "from keras.layers import Dense, Dropout, Activation, Flatten, Reshape\n",
    "from keras.layers import Convolution2D, MaxPooling1D\n",
    "from keras.metrics import SparseCategoricalCrossentropy\n",
    "from keras.callbacks import EarlyStopping\n",
    "from keras.callbacks import History\n",
    "import matplotlib.pyplot as plt\n",
    "from sklearn.metrics import roc_curve, auc \n",
    "import seaborn as sns\n",
    "from sklearn.metrics import confusion_matrix\n"
   ]
  },
  {
   "cell_type": "code",
   "execution_count": 18,
   "id": "29f8dfc9-1414-45aa-ba44-bb74ba0a9289",
   "metadata": {},
   "outputs": [],
   "source": [
    "def one_hot_encoding(dna_sequence):\n",
    "    \"\"\"\n",
    "    Converts a DNA sequence to one-hot-encoding\n",
    "    :param dna_sequence: nucleotide sequence\n",
    "    :type dna_sequence: str\n",
    "    :return: lst of encoding for each nucleotide in the original DNA string\n",
    "    :rtype: lst of lst of ints\n",
    "    :author: Sydney Ballard\n",
    "    \"\"\"\n",
    "    # Define a dictionary for 1-hot encoding\n",
    "    nucleotide_dict = {'A': [1, 0, 0, 0], \n",
    "                       'C': [0, 1, 0, 0], \n",
    "                       'G': [0, 0, 1, 0], \n",
    "                       'T': [0, 0, 0, 1]}\n",
    "    \n",
    "    # Convert the DNA sequence to 1-hot encoding\n",
    "    one_hot_encoding = [nucleotide_dict[base] for base in dna_sequence]  \n",
    "\n",
    "    # Return list of one hot encodings\n",
    "    return one_hot_encoding\n",
    "\n",
    "\n",
    "def parse_data(file_name):\n",
    "    \"\"\"\n",
    "    Converts a FASTA file to a dictionary.\n",
    "    :param file_name: The name of the input FASTA file.\n",
    "    :type file_name: str\n",
    "    :return: A dictionary of each key with a list of two elements: \n",
    "        the key is the original nucleotide sequence\n",
    "        the first element of the list contains the one-hot-encoding of the sequence (reference one_hot_encoding function above)\n",
    "        and the second element of the list contains the corresponding class names/enhancer identifier (0 or 1)\n",
    "    :rtype: dict\n",
    "    :author: Sydney Ballard\n",
    "    :acknowledgements: Adapted from parse_fasta_file, which Kush Gulati wrote for previous assignments\n",
    "    \"\"\"\n",
    "    # Initialize dictionary \n",
    "    # {sequence: [one hot encoding of sequence, enhancer identifier]}\n",
    "    sequence_data = {} # dict will hold 0/1 for class and sequence\n",
    "\n",
    "    sequences = []\n",
    "    class_names = []\n",
    "    with open(file_name) as file:\n",
    "        sequence = \"\"\n",
    "        class_name = \"\"\n",
    "        for line in file:\n",
    "            line = line.strip()\n",
    "            if line.startswith(\">\"):\n",
    "                class_name = line.split(\"/\")[-1][6:]\n",
    "                class_names.append(class_name)\n",
    "                if sequence:\n",
    "                    sequences.append(sequence)\n",
    "                    sequence = \"\"\n",
    "            else:\n",
    "                sequence += line\n",
    "        sequences.append(sequence)\n",
    "    \n",
    "    for idx in range(len(sequences)):\n",
    "        seq = sequences[idx]\n",
    "        class_encoding = class_names[idx]\n",
    "\n",
    "        # 0th element = encoding, 1st element = enhancer identifier\n",
    "        sequence_data[seq] = [one_hot_encoding(seq), class_encoding]\n",
    "\n",
    "    # print(list(sequence_data.values())[0][1])    \n",
    "    return sequence_data"
   ]
  },
  {
   "cell_type": "code",
   "execution_count": 19,
   "id": "a3b94e45-fbfc-4f77-8e33-141bb93625f2",
   "metadata": {},
   "outputs": [],
   "source": [
    "def transform_data(data_dict):\n",
    "    \"\"\"\n",
    "    Transform the data dictionary read by parse_data function to numpy arrays.\n",
    "    :param data_dict: The name of the input data dictionary.\n",
    "    :type data_dict: dictionary\n",
    "    :return: A tuple of two elements: the numpy array of input data X and target data Y\n",
    "    :rtype: tuple\n",
    "    :author: Qi Gao\n",
    "    \"\"\"\n",
    "    count = 0\n",
    "    X = []\n",
    "    Y = []\n",
    "    for i in data_dict.values():\n",
    "        X.append(i[0])\n",
    "        Y.append(float(i[1]))\n",
    "    X = np.array(X)\n",
    "    X = X.reshape(X.shape[0], X.shape[1], X.shape[2], 1)\n",
    "    Y = np.array(Y)\n",
    "    return X, Y"
   ]
  },
  {
   "cell_type": "code",
   "execution_count": 20,
   "id": "7ca9bb63-5013-4522-8a45-6043e2e5483b",
   "metadata": {},
   "outputs": [],
   "source": [
    "sim2_data_train = parse_data(\"sim2/train.fasta\")\n",
    "sim2_data_valid = parse_data(\"sim2/validation.fasta\")\n",
    "sim2_data_test = parse_data(\"sim2/test.fasta\")\n",
    "X_train, Y_train = transform_data(sim2_data_train)\n",
    "X_valid, Y_valid = transform_data(sim2_data_valid)\n",
    "X_test, Y_test = transform_data(sim2_data_test)"
   ]
  },
  {
   "cell_type": "code",
   "execution_count": 25,
   "id": "e2bfaf22-665f-4663-9a62-06bd04a3fa7d",
   "metadata": {},
   "outputs": [
    {
     "name": "stdout",
     "output_type": "stream",
     "text": [
      "Epoch 1/100\n",
      "157/157 [==============================] - 6s 36ms/step - loss: 0.6987 - accuracy: 0.4978 - val_loss: 0.6931 - val_accuracy: 0.5042\n",
      "Epoch 2/100\n",
      "157/157 [==============================] - 6s 38ms/step - loss: 0.6934 - accuracy: 0.5038 - val_loss: 0.6931 - val_accuracy: 0.5000\n",
      "Epoch 3/100\n",
      "157/157 [==============================] - 6s 36ms/step - loss: 0.6931 - accuracy: 0.5059 - val_loss: 0.6904 - val_accuracy: 0.5442\n",
      "Epoch 4/100\n",
      "157/157 [==============================] - 6s 35ms/step - loss: 0.6548 - accuracy: 0.6174 - val_loss: 0.4846 - val_accuracy: 0.8102\n",
      "Epoch 5/100\n",
      "157/157 [==============================] - 6s 36ms/step - loss: 0.3268 - accuracy: 0.8705 - val_loss: 0.1397 - val_accuracy: 0.9622\n",
      "Epoch 6/100\n",
      "157/157 [==============================] - 6s 36ms/step - loss: 0.1260 - accuracy: 0.9607 - val_loss: 0.0773 - val_accuracy: 0.9768\n",
      "Epoch 7/100\n",
      "157/157 [==============================] - 6s 36ms/step - loss: 0.0745 - accuracy: 0.9776 - val_loss: 0.0559 - val_accuracy: 0.9857\n",
      "Epoch 8/100\n",
      "157/157 [==============================] - 5s 35ms/step - loss: 0.0563 - accuracy: 0.9824 - val_loss: 0.0544 - val_accuracy: 0.9858\n",
      "Epoch 9/100\n",
      "157/157 [==============================] - 6s 36ms/step - loss: 0.0400 - accuracy: 0.9893 - val_loss: 0.0476 - val_accuracy: 0.9876\n",
      "Epoch 10/100\n",
      "157/157 [==============================] - 6s 36ms/step - loss: 0.0277 - accuracy: 0.9922 - val_loss: 0.0533 - val_accuracy: 0.9860\n",
      "Epoch 11/100\n",
      "157/157 [==============================] - 6s 37ms/step - loss: 0.0237 - accuracy: 0.9934 - val_loss: 0.0609 - val_accuracy: 0.9847\n",
      "Epoch 12/100\n",
      "157/157 [==============================] - 6s 36ms/step - loss: 0.0170 - accuracy: 0.9952 - val_loss: 0.0600 - val_accuracy: 0.9854\n",
      "Epoch 13/100\n",
      "157/157 [==============================] - 7s 42ms/step - loss: 0.0135 - accuracy: 0.9962 - val_loss: 0.0646 - val_accuracy: 0.9855\n",
      "Epoch 14/100\n",
      "157/157 [==============================] - 6s 36ms/step - loss: 0.0092 - accuracy: 0.9975 - val_loss: 0.0765 - val_accuracy: 0.9834\n",
      "Epoch 15/100\n",
      "157/157 [==============================] - 5s 33ms/step - loss: 0.0111 - accuracy: 0.9970 - val_loss: 0.0632 - val_accuracy: 0.9865\n",
      "Epoch 16/100\n",
      "157/157 [==============================] - 5s 34ms/step - loss: 0.0081 - accuracy: 0.9980 - val_loss: 0.0700 - val_accuracy: 0.9852\n",
      "Epoch 17/100\n",
      "157/157 [==============================] - 5s 33ms/step - loss: 0.0081 - accuracy: 0.9974 - val_loss: 0.0888 - val_accuracy: 0.9819\n",
      "Epoch 18/100\n",
      "157/157 [==============================] - 5s 33ms/step - loss: 0.0075 - accuracy: 0.9977 - val_loss: 0.0560 - val_accuracy: 0.9888\n",
      "Epoch 19/100\n",
      "157/157 [==============================] - 5s 33ms/step - loss: 0.0049 - accuracy: 0.9987 - val_loss: 0.0725 - val_accuracy: 0.9869\n"
     ]
    },
    {
     "data": {
      "text/plain": [
       "<keras.callbacks.History at 0x7fdb01a227d0>"
      ]
     },
     "execution_count": 25,
     "metadata": {},
     "output_type": "execute_result"
    }
   ],
   "source": [
    "''' This model is designed by Qi Gao.'''\n",
    "\n",
    "model = Sequential()\n",
    "\n",
    "model.add(Convolution2D(32, (6, 4), activation='relu', input_shape=(249, 4, 1)))\n",
    "model.add(Flatten())\n",
    "model.add(Dense(256, activation='relu'))\n",
    "model.add(Dropout(0.5))\n",
    "model.add(Dense(32, activation='relu'))\n",
    "model.add(Dropout(0.5))\n",
    "model.add(Dense(2, activation='softmax'))\n",
    "\n",
    "model.compile(loss='sparse_categorical_crossentropy',\n",
    "              optimizer='adam',\n",
    "              metrics=['accuracy'])\n",
    "\n",
    "model.fit(X_train, Y_train, verbose=1, validation_data=(X_valid, Y_valid),batch_size=128, epochs=100, \n",
    "          callbacks=[EarlyStopping(patience=10, monitor=\"val_loss\", restore_best_weights=True), History()])"
   ]
  },
  {
   "cell_type": "code",
   "execution_count": 26,
   "id": "9e9d8e53-d373-4659-b505-1323256a5643",
   "metadata": {},
   "outputs": [
    {
     "name": "stdout",
     "output_type": "stream",
     "text": [
      "157/157 [==============================] - 1s 5ms/step\n"
     ]
    },
    {
     "data": {
      "text/plain": [
       "0.98815"
      ]
     },
     "execution_count": 26,
     "metadata": {},
     "output_type": "execute_result"
    }
   ],
   "source": [
    "'''Evaluate the performance on test dataset.'''\n",
    "pred = model.predict(X_test, batch_size=128)\n",
    "np.sum(pred.argmax(axis = 1) == Y_test) / len(Y_test)"
   ]
  },
  {
   "cell_type": "code",
   "execution_count": 27,
   "id": "c6c4e2c7-fe6b-4d61-bfa7-20dfd9b5d4cf",
   "metadata": {},
   "outputs": [
    {
     "data": {
      "image/png": "[encoded data removed]",
      "text/plain": [
       "<Figure size 640x480 with 1 Axes>"
      ]
     },
     "metadata": {},
     "output_type": "display_data"
    },
    {
     "name": "stdout",
     "output_type": "stream",
     "text": [
      "AUC: 0.9953\n"
     ]
    }
   ],
   "source": [
    "fpr, tpr, thresholds = roc_curve(Y_test, pred[:,1])\n",
    "roc_auc = auc(fpr, tpr)\n",
    "\n",
    "plt.figure()\n",
    "plt.plot(fpr, tpr, color = 'darkorange', label = 'ROC curve (area = %0.4f)' % roc_auc)\n",
    "plt.plot([0,1], [0,1], color = 'navy', linestyle='--')\n",
    "plt.xlim([0.0, 1.0])\n",
    "plt.ylim([0.0, 1.05])\n",
    "plt.xlabel('False Positive Rate')\n",
    "plt.ylabel('True Positive Rate')\n",
    "plt.title('Receiver Operating Characteristic: Model 2')\n",
    "plt.legend(loc=\"lower right\")\n",
    "plt.show()\n",
    "print(\"AUC: %0.4f\" % roc_auc)"
   ]
  },
  {
   "cell_type": "code",
   "execution_count": 29,
   "id": "3754ced2",
   "metadata": {},
   "outputs": [
    {
     "data": {
      "image/png": "[encoded data removed]",
      "text/plain": [
       "<Figure size 640x480 with 2 Axes>"
      ]
     },
     "metadata": {},
     "output_type": "display_data"
    }
   ],
   "source": [
    "# Create a confusion matrix\n",
    "cm = confusion_matrix(Y_test, pred.argmax(axis=1))\n",
    "\n",
    "# Plot the confusion matrix\n",
    "labels = ['Not an Enhancer', 'Enhancer'] # Replace with your actual class labels\n",
    "sns.heatmap(cm, annot=True, fmt=\"d\", cmap=\"Blues\", xticklabels=labels, yticklabels=labels)\n",
    "plt.xlabel('Predicted')\n",
    "plt.ylabel('Actual')\n",
    "plt.title('Confusion Matrix: Model 2')\n",
    "plt.show()"
   ]
  },
  {
   "cell_type": "code",
   "execution_count": 7,
   "id": "ca28dc4a-9138-468b-a8c4-40e3816e7425",
   "metadata": {},
   "outputs": [
    {
     "name": "stdout",
     "output_type": "stream",
     "text": [
      "Epoch 1/100\n",
      "157/157 [==============================] - 5s 27ms/step - loss: 0.6957 - accuracy: 0.5059 - val_loss: 0.6931 - val_accuracy: 0.5026\n",
      "Epoch 2/100\n",
      "157/157 [==============================] - 4s 23ms/step - loss: 0.6935 - accuracy: 0.4983 - val_loss: 0.6931 - val_accuracy: 0.5041\n",
      "Epoch 3/100\n",
      "157/157 [==============================] - 4s 25ms/step - loss: 0.6932 - accuracy: 0.5031 - val_loss: 0.6930 - val_accuracy: 0.5297\n",
      "Epoch 4/100\n",
      "157/157 [==============================] - 4s 24ms/step - loss: 0.6919 - accuracy: 0.5193 - val_loss: 0.6844 - val_accuracy: 0.5121\n",
      "Epoch 5/100\n",
      "157/157 [==============================] - 4s 25ms/step - loss: 0.4437 - accuracy: 0.7929 - val_loss: 0.0613 - val_accuracy: 0.9801\n",
      "Epoch 6/100\n",
      "157/157 [==============================] - 4s 24ms/step - loss: 0.0453 - accuracy: 0.9887 - val_loss: 0.0133 - val_accuracy: 0.9967\n",
      "Epoch 7/100\n",
      "157/157 [==============================] - 4s 24ms/step - loss: 0.0172 - accuracy: 0.9967 - val_loss: 0.0208 - val_accuracy: 0.9941\n",
      "Epoch 8/100\n",
      "157/157 [==============================] - 4s 24ms/step - loss: 0.0102 - accuracy: 0.9980 - val_loss: 0.0127 - val_accuracy: 0.9969\n",
      "Epoch 9/100\n",
      "157/157 [==============================] - 4s 25ms/step - loss: 0.0069 - accuracy: 0.9985 - val_loss: 0.0123 - val_accuracy: 0.9972\n",
      "Epoch 10/100\n",
      "157/157 [==============================] - 4s 25ms/step - loss: 0.0047 - accuracy: 0.9991 - val_loss: 0.0119 - val_accuracy: 0.9973\n",
      "Epoch 11/100\n",
      "157/157 [==============================] - 4s 26ms/step - loss: 0.0026 - accuracy: 0.9995 - val_loss: 0.0173 - val_accuracy: 0.9962\n",
      "Epoch 12/100\n",
      "157/157 [==============================] - 5s 31ms/step - loss: 0.0029 - accuracy: 0.9995 - val_loss: 0.0151 - val_accuracy: 0.9969\n",
      "Epoch 13/100\n",
      "157/157 [==============================] - 4s 24ms/step - loss: 0.0018 - accuracy: 0.9997 - val_loss: 0.0154 - val_accuracy: 0.9970\n",
      "Epoch 14/100\n",
      "157/157 [==============================] - 4s 26ms/step - loss: 0.0017 - accuracy: 0.9997 - val_loss: 0.0156 - val_accuracy: 0.9971\n",
      "Epoch 15/100\n",
      "157/157 [==============================] - 4s 25ms/step - loss: 0.0012 - accuracy: 0.9998 - val_loss: 0.0150 - val_accuracy: 0.9972\n",
      "Epoch 16/100\n",
      "157/157 [==============================] - 4s 24ms/step - loss: 9.6229e-04 - accuracy: 0.9999 - val_loss: 0.0217 - val_accuracy: 0.9963\n",
      "Epoch 17/100\n",
      "157/157 [==============================] - 4s 26ms/step - loss: 8.9481e-04 - accuracy: 0.9998 - val_loss: 0.0185 - val_accuracy: 0.9969\n",
      "Epoch 18/100\n",
      "157/157 [==============================] - 4s 24ms/step - loss: 7.2798e-04 - accuracy: 0.9999 - val_loss: 0.0205 - val_accuracy: 0.9968\n",
      "Epoch 19/100\n",
      "157/157 [==============================] - 4s 25ms/step - loss: 6.8086e-04 - accuracy: 0.9999 - val_loss: 0.0240 - val_accuracy: 0.9965\n",
      "Epoch 20/100\n",
      "157/157 [==============================] - 4s 25ms/step - loss: 8.5688e-04 - accuracy: 0.9997 - val_loss: 0.0282 - val_accuracy: 0.9959\n"
     ]
    },
    {
     "data": {
      "text/plain": [
       "<keras.callbacks.History at 0x7fdc497709d0>"
      ]
     },
     "execution_count": 7,
     "metadata": {},
     "output_type": "execute_result"
    }
   ],
   "source": [
    "''' This model is designed by Qi Gao. (double check)'''\n",
    "model = Sequential()\n",
    "\n",
    "model.add(Convolution2D(32, (6, 4), activation='relu', input_shape=(249, 4, 1)))\n",
    "model.add(Flatten())\n",
    "model.add(Dense(256, activation='relu'))\n",
    "model.add(Dropout(0.5))\n",
    "model.add(Dense(32, activation='relu'))\n",
    "model.add(Dropout(0.5))\n",
    "model.add(Dense(2, activation='softmax'))\n",
    "\n",
    "model.compile(loss='sparse_categorical_crossentropy',\n",
    "              optimizer='adam',\n",
    "              metrics=['accuracy'])\n",
    "\n",
    "model.fit(X_train, Y_train, verbose=1, validation_data=(X_valid, Y_valid),batch_size=128, epochs=100, \n",
    "          callbacks=[EarlyStopping(patience=10, monitor=\"val_loss\", restore_best_weights=True), History()])"
   ]
  },
  {
   "cell_type": "code",
   "execution_count": 8,
   "id": "1000c120-dc23-4368-82ad-cc8214041728",
   "metadata": {},
   "outputs": [
    {
     "name": "stdout",
     "output_type": "stream",
     "text": [
      "157/157 [==============================] - 1s 5ms/step\n"
     ]
    },
    {
     "data": {
      "text/plain": [
       "0.99705"
      ]
     },
     "execution_count": 8,
     "metadata": {},
     "output_type": "execute_result"
    }
   ],
   "source": [
    "'''Evaluate the performance on test dataset (double check).'''\n",
    "pred = model.predict(X_test, batch_size=128)\n",
    "np.sum(pred.argmax(axis = 1) == Y_test) / len(Y_test)"
   ]
  },
  {
   "cell_type": "code",
   "execution_count": null,
   "id": "eea95b59-ed08-4d29-983b-576d573740f4",
   "metadata": {},
   "outputs": [],
   "source": []
  }
 ],
 "metadata": {
  "kernelspec": {
   "display_name": "Python 3 (ipykernel)",
   "language": "python",
   "name": "python3"
  },
  "language_info": {
   "codemirror_mode": {
    "name": "ipython",
    "version": 3
   },
   "file_extension": ".py",
   "mimetype": "text/x-python",
   "name": "python",
   "nbconvert_exporter": "python",
   "pygments_lexer": "ipython3",
   "version": "3.7.4"
  }
 },
 "nbformat": 4,
 "nbformat_minor": 5
}
