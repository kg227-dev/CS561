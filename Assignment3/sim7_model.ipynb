{
 "cells": [
  {
   "cell_type": "code",
   "execution_count": 1,
   "id": "9590d7b4-06dc-413a-bdd8-a31af2ace879",
   "metadata": {},
   "outputs": [
    {
     "name": "stderr",
     "output_type": "stream",
     "text": [
      "2023-04-10 23:48:03.845381: I tensorflow/core/platform/cpu_feature_guard.cc:193] This TensorFlow binary is optimized with oneAPI Deep Neural Network Library (oneDNN) to use the following CPU instructions in performance-critical operations:  AVX2 FMA\n",
      "To enable them in other operations, rebuild TensorFlow with the appropriate compiler flags.\n"
     ]
    }
   ],
   "source": [
    "import numpy as np\n",
    "import tensorflow as tf\n",
    "import keras\n",
    "from keras import models\n",
    "import keras.layers as kl\n",
    "from keras.layers.convolutional import Conv1D\n",
    "from keras.models import Sequential\n",
    "from keras.layers import Dense, Dropout, Activation, Flatten, Reshape\n",
    "from keras.layers import Convolution2D, MaxPooling1D\n",
    "from keras.metrics import SparseCategoricalCrossentropy\n",
    "from keras.callbacks import EarlyStopping\n",
    "from keras.callbacks import History\n",
    "import matplotlib.pyplot as plt\n",
    "from sklearn.metrics import roc_curve, auc \n"
   ]
  },
  {
   "cell_type": "code",
   "execution_count": 2,
   "id": "29f8dfc9-1414-45aa-ba44-bb74ba0a9289",
   "metadata": {},
   "outputs": [],
   "source": [
    "def one_hot_encoding(dna_sequence):\n",
    "    \"\"\"\n",
    "    Converts a DNA sequence to one-hot-encoding\n",
    "    :param dna_sequence: nucleotide sequence\n",
    "    :type dna_sequence: str\n",
    "    :return: lst of encoding for each nucleotide in the original DNA string\n",
    "    :rtype: lst of lst of ints\n",
    "    :author: Sydney Ballard\n",
    "    \"\"\"\n",
    "    # Define a dictionary for 1-hot encoding\n",
    "    nucleotide_dict = {'A': [1, 0, 0, 0], \n",
    "                       'C': [0, 1, 0, 0], \n",
    "                       'G': [0, 0, 1, 0], \n",
    "                       'T': [0, 0, 0, 1]}\n",
    "    \n",
    "    # Convert the DNA sequence to 1-hot encoding\n",
    "    one_hot_encoding = [nucleotide_dict[base] for base in dna_sequence]  \n",
    "\n",
    "    # Return list of one hot encodings\n",
    "    return one_hot_encoding\n",
    "\n",
    "\n",
    "def parse_data(file_name):\n",
    "    \"\"\"\n",
    "    Converts a FASTA file to a dictionary.\n",
    "    :param file_name: The name of the input FASTA file.\n",
    "    :type file_name: str\n",
    "    :return: A dictionary of each key with a list of two elements: \n",
    "        the key is the original nucleotide sequence\n",
    "        the first element of the list contains the one-hot-encoding of the sequence (reference one_hot_encoding function above)\n",
    "        and the second element of the list contains the corresponding class names/enhancer identifier (0 or 1)\n",
    "    :rtype: dict\n",
    "    :author: Sydney Ballard\n",
    "    :acknowledgements: Adapted from parse_fasta_file, which Kush Gulati wrote for previous assignments\n",
    "    \"\"\"\n",
    "    # Initialize dictionary \n",
    "    # {sequence: [one hot encoding of sequence, enhancer identifier]}\n",
    "    sequence_data = {} # dict will hold 0/1 for class and sequence\n",
    "\n",
    "    sequences = []\n",
    "    class_names = []\n",
    "    with open(file_name) as file:\n",
    "        sequence = \"\"\n",
    "        class_name = \"\"\n",
    "        for line in file:\n",
    "            line = line.strip()\n",
    "            if line.startswith(\">\"):\n",
    "                class_name = line.split(\"/\")[-1][6:]\n",
    "                class_names.append(class_name)\n",
    "                if sequence:\n",
    "                    sequences.append(sequence)\n",
    "                    sequence = \"\"\n",
    "            else:\n",
    "                sequence += line\n",
    "        sequences.append(sequence)\n",
    "    \n",
    "    for idx in range(len(sequences)):\n",
    "        seq = sequences[idx]\n",
    "        class_encoding = class_names[idx]\n",
    "\n",
    "        # 0th element = encoding, 1st element = enhancer identifier\n",
    "        sequence_data[seq] = [one_hot_encoding(seq), class_encoding]\n",
    "\n",
    "    # print(list(sequence_data.values())[0][1])    \n",
    "    return sequence_data"
   ]
  },
  {
   "cell_type": "code",
   "execution_count": 3,
   "id": "a3b94e45-fbfc-4f77-8e33-141bb93625f2",
   "metadata": {},
   "outputs": [],
   "source": [
    "def transform_data(data_dict):\n",
    "    \"\"\"\n",
    "    Transform the data dictionary read by parse_data function to numpy arrays.\n",
    "    :param data_dict: The name of the input data dictionary.\n",
    "    :type data_dict: dictionary\n",
    "    :return: A tuple of two elements: the numpy array of input data X and target data Y\n",
    "    :rtype: tuple\n",
    "    :author: Qi Gao\n",
    "    \"\"\"\n",
    "    count = 0\n",
    "    X = []\n",
    "    Y = []\n",
    "    for i in data_dict.values():\n",
    "        X.append(i[0])\n",
    "        Y.append(float(i[1]))\n",
    "    X = np.array(X)\n",
    "    X = X.reshape(X.shape[0], X.shape[1], X.shape[2], 1)\n",
    "    Y = np.array(Y)\n",
    "    return X, Y"
   ]
  },
  {
   "cell_type": "code",
   "execution_count": 4,
   "id": "7ca9bb63-5013-4522-8a45-6043e2e5483b",
   "metadata": {},
   "outputs": [],
   "source": [
    "sim7_data_train = parse_data(\"sim7/train.fasta\")\n",
    "sim7_data_valid = parse_data(\"sim7/validation.fasta\")\n",
    "sim7_data_test = parse_data(\"sim7/test.fasta\")\n",
    "X_train, Y_train = transform_data(sim7_data_train)\n",
    "X_valid, Y_valid = transform_data(sim7_data_valid)\n",
    "X_test, Y_test = transform_data(sim7_data_test)"
   ]
  },
  {
   "cell_type": "code",
   "execution_count": 5,
   "id": "e2bfaf22-665f-4663-9a62-06bd04a3fa7d",
   "metadata": {},
   "outputs": [
    {
     "name": "stderr",
     "output_type": "stream",
     "text": [
      "2023-04-10 23:48:29.153165: I tensorflow/core/platform/cpu_feature_guard.cc:193] This TensorFlow binary is optimized with oneAPI Deep Neural Network Library (oneDNN) to use the following CPU instructions in performance-critical operations:  AVX2 FMA\n",
      "To enable them in other operations, rebuild TensorFlow with the appropriate compiler flags.\n"
     ]
    },
    {
     "name": "stdout",
     "output_type": "stream",
     "text": [
      "Epoch 1/100\n",
      "157/157 [==============================] - 7s 38ms/step - loss: 0.6966 - accuracy: 0.4928 - val_loss: 0.6931 - val_accuracy: 0.5001\n",
      "Epoch 2/100\n",
      "157/157 [==============================] - 6s 36ms/step - loss: 0.6931 - accuracy: 0.5026 - val_loss: 0.6930 - val_accuracy: 0.4999\n",
      "Epoch 3/100\n",
      "157/157 [==============================] - 6s 35ms/step - loss: 0.6857 - accuracy: 0.5437 - val_loss: 0.6515 - val_accuracy: 0.6444\n",
      "Epoch 4/100\n",
      "157/157 [==============================] - 5s 34ms/step - loss: 0.5915 - accuracy: 0.6953 - val_loss: 0.4729 - val_accuracy: 0.7954\n",
      "Epoch 5/100\n",
      "157/157 [==============================] - 5s 34ms/step - loss: 0.4445 - accuracy: 0.8073 - val_loss: 0.3866 - val_accuracy: 0.8348\n",
      "Epoch 6/100\n",
      "157/157 [==============================] - 5s 34ms/step - loss: 0.3545 - accuracy: 0.8446 - val_loss: 0.3008 - val_accuracy: 0.8602\n",
      "Epoch 7/100\n",
      "157/157 [==============================] - 5s 35ms/step - loss: 0.2556 - accuracy: 0.8759 - val_loss: 0.2032 - val_accuracy: 0.8938\n",
      "Epoch 8/100\n",
      "157/157 [==============================] - 5s 34ms/step - loss: 0.1758 - accuracy: 0.9297 - val_loss: 0.1463 - val_accuracy: 0.9493\n",
      "Epoch 9/100\n",
      "157/157 [==============================] - 5s 34ms/step - loss: 0.1227 - accuracy: 0.9582 - val_loss: 0.1120 - val_accuracy: 0.9638\n",
      "Epoch 10/100\n",
      "157/157 [==============================] - 5s 34ms/step - loss: 0.0890 - accuracy: 0.9715 - val_loss: 0.0986 - val_accuracy: 0.9688\n",
      "Epoch 11/100\n",
      "157/157 [==============================] - 5s 34ms/step - loss: 0.0659 - accuracy: 0.9796 - val_loss: 0.0814 - val_accuracy: 0.9741\n",
      "Epoch 12/100\n",
      "157/157 [==============================] - 5s 34ms/step - loss: 0.0552 - accuracy: 0.9837 - val_loss: 0.0831 - val_accuracy: 0.9744\n",
      "Epoch 13/100\n",
      "157/157 [==============================] - 5s 34ms/step - loss: 0.0439 - accuracy: 0.9863 - val_loss: 0.0881 - val_accuracy: 0.9744\n",
      "Epoch 14/100\n",
      "157/157 [==============================] - 5s 35ms/step - loss: 0.0363 - accuracy: 0.9898 - val_loss: 0.0793 - val_accuracy: 0.9772\n",
      "Epoch 15/100\n",
      "157/157 [==============================] - 5s 34ms/step - loss: 0.0303 - accuracy: 0.9905 - val_loss: 0.0847 - val_accuracy: 0.9761\n",
      "Epoch 16/100\n",
      "157/157 [==============================] - 5s 34ms/step - loss: 0.0263 - accuracy: 0.9922 - val_loss: 0.0840 - val_accuracy: 0.9765\n",
      "Epoch 17/100\n",
      "157/157 [==============================] - 5s 35ms/step - loss: 0.0228 - accuracy: 0.9929 - val_loss: 0.0832 - val_accuracy: 0.9776\n",
      "Epoch 18/100\n",
      "157/157 [==============================] - 5s 35ms/step - loss: 0.0214 - accuracy: 0.9930 - val_loss: 0.0842 - val_accuracy: 0.9784\n",
      "Epoch 19/100\n",
      "157/157 [==============================] - 6s 36ms/step - loss: 0.0179 - accuracy: 0.9941 - val_loss: 0.0817 - val_accuracy: 0.9785\n",
      "Epoch 20/100\n",
      "157/157 [==============================] - 5s 34ms/step - loss: 0.0174 - accuracy: 0.9944 - val_loss: 0.0781 - val_accuracy: 0.9792\n",
      "Epoch 21/100\n",
      "157/157 [==============================] - 5s 35ms/step - loss: 0.0158 - accuracy: 0.9953 - val_loss: 0.0843 - val_accuracy: 0.9791\n",
      "Epoch 22/100\n",
      "157/157 [==============================] - 5s 35ms/step - loss: 0.0171 - accuracy: 0.9951 - val_loss: 0.0816 - val_accuracy: 0.9800\n",
      "Epoch 23/100\n",
      "157/157 [==============================] - 5s 34ms/step - loss: 0.0147 - accuracy: 0.9958 - val_loss: 0.0927 - val_accuracy: 0.9784\n",
      "Epoch 24/100\n",
      "157/157 [==============================] - 5s 34ms/step - loss: 0.0158 - accuracy: 0.9951 - val_loss: 0.0897 - val_accuracy: 0.9789\n",
      "Epoch 25/100\n",
      "157/157 [==============================] - 5s 34ms/step - loss: 0.0113 - accuracy: 0.9969 - val_loss: 0.0843 - val_accuracy: 0.9807\n",
      "Epoch 26/100\n",
      "157/157 [==============================] - 5s 34ms/step - loss: 0.0118 - accuracy: 0.9967 - val_loss: 0.0921 - val_accuracy: 0.9793\n",
      "Epoch 27/100\n",
      "157/157 [==============================] - 5s 35ms/step - loss: 0.0097 - accuracy: 0.9969 - val_loss: 0.0929 - val_accuracy: 0.9790\n",
      "Epoch 28/100\n",
      "157/157 [==============================] - 5s 34ms/step - loss: 0.0117 - accuracy: 0.9965 - val_loss: 0.0891 - val_accuracy: 0.9800\n",
      "Epoch 29/100\n",
      "157/157 [==============================] - 5s 34ms/step - loss: 0.0086 - accuracy: 0.9974 - val_loss: 0.0841 - val_accuracy: 0.9810\n",
      "Epoch 30/100\n",
      "157/157 [==============================] - 5s 34ms/step - loss: 0.0079 - accuracy: 0.9973 - val_loss: 0.0870 - val_accuracy: 0.9812\n"
     ]
    },
    {
     "data": {
      "text/plain": [
       "<keras.callbacks.History at 0x7f80acb24b90>"
      ]
     },
     "execution_count": 5,
     "metadata": {},
     "output_type": "execute_result"
    }
   ],
   "source": [
    "''' This model is designed by Qi Gao.'''\n",
    "\n",
    "model = Sequential()\n",
    "\n",
    "model.add(Convolution2D(32, (6, 4), activation='relu', input_shape=(249, 4, 1)))\n",
    "model.add(Flatten())\n",
    "model.add(Dense(256, activation='relu'))\n",
    "model.add(Dropout(0.5))\n",
    "model.add(Dense(32, activation='relu'))\n",
    "model.add(Dropout(0.5))\n",
    "model.add(Dense(2, activation='softmax'))\n",
    "\n",
    "model.compile(loss='sparse_categorical_crossentropy',\n",
    "              optimizer='adam',\n",
    "              metrics=['accuracy'])\n",
    "\n",
    "model.fit(X_train, Y_train, verbose=1, validation_data=(X_valid, Y_valid),batch_size=128, epochs=100, \n",
    "          callbacks=[EarlyStopping(patience=10, monitor=\"val_loss\", restore_best_weights=True), History()])"
   ]
  },
  {
   "cell_type": "code",
   "execution_count": 6,
   "id": "9e9d8e53-d373-4659-b505-1323256a5643",
   "metadata": {},
   "outputs": [
    {
     "name": "stdout",
     "output_type": "stream",
     "text": [
      "157/157 [==============================] - 1s 5ms/step\n"
     ]
    },
    {
     "data": {
      "text/plain": [
       "0.98145"
      ]
     },
     "execution_count": 6,
     "metadata": {},
     "output_type": "execute_result"
    }
   ],
   "source": [
    "'''Evaluate the performance on test dataset.'''\n",
    "pred = model.predict(X_test, batch_size=128)\n",
    "np.sum(pred.argmax(axis = 1) == Y_test) / len(Y_test)"
   ]
  },
  {
   "cell_type": "code",
   "execution_count": 7,
   "id": "c6c4e2c7-fe6b-4d61-bfa7-20dfd9b5d4cf",
   "metadata": {},
   "outputs": [
    {
     "data": {
      "image/png": "[encoded data removed]",
      "text/plain": [
       "<Figure size 640x480 with 1 Axes>"
      ]
     },
     "metadata": {},
     "output_type": "display_data"
    },
    {
     "name": "stdout",
     "output_type": "stream",
     "text": [
      "AUC: 0.9964\n"
     ]
    }
   ],
   "source": [
    "fpr, tpr, thresholds = roc_curve(Y_test, pred[:,1])\n",
    "roc_auc = auc(fpr, tpr)\n",
    "\n",
    "plt.figure()\n",
    "plt.plot(fpr, tpr, color = 'darkorange', label = 'ROC curve (area = %0.4f)' % roc_auc)\n",
    "plt.plot([0,1], [0,1], color = 'navy', linestyle='--')\n",
    "plt.xlim([0.0, 1.0])\n",
    "plt.ylim([0.0, 1.05])\n",
    "plt.xlabel('False Positive Rate')\n",
    "plt.ylabel('True Positive Rate')\n",
    "plt.title('Receiver Operating Characteristic: Model 7')\n",
    "plt.legend(loc=\"lower right\")\n",
    "plt.show()\n",
    "print(\"AUC: %0.4f\" % roc_auc)"
   ]
  },
  {
   "cell_type": "code",
   "execution_count": 7,
   "id": "ca28dc4a-9138-468b-a8c4-40e3816e7425",
   "metadata": {},
   "outputs": [
    {
     "name": "stdout",
     "output_type": "stream",
     "text": [
      "Epoch 1/100\n",
      "157/157 [==============================] - 5s 27ms/step - loss: 0.6957 - accuracy: 0.5059 - val_loss: 0.6931 - val_accuracy: 0.5026\n",
      "Epoch 2/100\n",
      "157/157 [==============================] - 4s 23ms/step - loss: 0.6935 - accuracy: 0.4983 - val_loss: 0.6931 - val_accuracy: 0.5041\n",
      "Epoch 3/100\n",
      "157/157 [==============================] - 4s 25ms/step - loss: 0.6932 - accuracy: 0.5031 - val_loss: 0.6930 - val_accuracy: 0.5297\n",
      "Epoch 4/100\n",
      "157/157 [==============================] - 4s 24ms/step - loss: 0.6919 - accuracy: 0.5193 - val_loss: 0.6844 - val_accuracy: 0.5121\n",
      "Epoch 5/100\n",
      "157/157 [==============================] - 4s 25ms/step - loss: 0.4437 - accuracy: 0.7929 - val_loss: 0.0613 - val_accuracy: 0.9801\n",
      "Epoch 6/100\n",
      "157/157 [==============================] - 4s 24ms/step - loss: 0.0453 - accuracy: 0.9887 - val_loss: 0.0133 - val_accuracy: 0.9967\n",
      "Epoch 7/100\n",
      "157/157 [==============================] - 4s 24ms/step - loss: 0.0172 - accuracy: 0.9967 - val_loss: 0.0208 - val_accuracy: 0.9941\n",
      "Epoch 8/100\n",
      "157/157 [==============================] - 4s 24ms/step - loss: 0.0102 - accuracy: 0.9980 - val_loss: 0.0127 - val_accuracy: 0.9969\n",
      "Epoch 9/100\n",
      "157/157 [==============================] - 4s 25ms/step - loss: 0.0069 - accuracy: 0.9985 - val_loss: 0.0123 - val_accuracy: 0.9972\n",
      "Epoch 10/100\n",
      "157/157 [==============================] - 4s 25ms/step - loss: 0.0047 - accuracy: 0.9991 - val_loss: 0.0119 - val_accuracy: 0.9973\n",
      "Epoch 11/100\n",
      "157/157 [==============================] - 4s 26ms/step - loss: 0.0026 - accuracy: 0.9995 - val_loss: 0.0173 - val_accuracy: 0.9962\n",
      "Epoch 12/100\n",
      "157/157 [==============================] - 5s 31ms/step - loss: 0.0029 - accuracy: 0.9995 - val_loss: 0.0151 - val_accuracy: 0.9969\n",
      "Epoch 13/100\n",
      "157/157 [==============================] - 4s 24ms/step - loss: 0.0018 - accuracy: 0.9997 - val_loss: 0.0154 - val_accuracy: 0.9970\n",
      "Epoch 14/100\n",
      "157/157 [==============================] - 4s 26ms/step - loss: 0.0017 - accuracy: 0.9997 - val_loss: 0.0156 - val_accuracy: 0.9971\n",
      "Epoch 15/100\n",
      "157/157 [==============================] - 4s 25ms/step - loss: 0.0012 - accuracy: 0.9998 - val_loss: 0.0150 - val_accuracy: 0.9972\n",
      "Epoch 16/100\n",
      "157/157 [==============================] - 4s 24ms/step - loss: 9.6229e-04 - accuracy: 0.9999 - val_loss: 0.0217 - val_accuracy: 0.9963\n",
      "Epoch 17/100\n",
      "157/157 [==============================] - 4s 26ms/step - loss: 8.9481e-04 - accuracy: 0.9998 - val_loss: 0.0185 - val_accuracy: 0.9969\n",
      "Epoch 18/100\n",
      "157/157 [==============================] - 4s 24ms/step - loss: 7.2798e-04 - accuracy: 0.9999 - val_loss: 0.0205 - val_accuracy: 0.9968\n",
      "Epoch 19/100\n",
      "157/157 [==============================] - 4s 25ms/step - loss: 6.8086e-04 - accuracy: 0.9999 - val_loss: 0.0240 - val_accuracy: 0.9965\n",
      "Epoch 20/100\n",
      "157/157 [==============================] - 4s 25ms/step - loss: 8.5688e-04 - accuracy: 0.9997 - val_loss: 0.0282 - val_accuracy: 0.9959\n"
     ]
    },
    {
     "data": {
      "text/plain": [
       "<keras.callbacks.History at 0x7fdc497709d0>"
      ]
     },
     "execution_count": 7,
     "metadata": {},
     "output_type": "execute_result"
    }
   ],
   "source": [
    "''' This model is designed by Qi Gao. (double check)'''\n",
    "model = Sequential()\n",
    "\n",
    "model.add(Convolution2D(32, (6, 4), activation='relu', input_shape=(249, 4, 1)))\n",
    "model.add(Flatten())\n",
    "model.add(Dense(256, activation='relu'))\n",
    "model.add(Dropout(0.5))\n",
    "model.add(Dense(32, activation='relu'))\n",
    "model.add(Dropout(0.5))\n",
    "model.add(Dense(2, activation='softmax'))\n",
    "\n",
    "model.compile(loss='sparse_categorical_crossentropy',\n",
    "              optimizer='adam',\n",
    "              metrics=['accuracy'])\n",
    "\n",
    "model.fit(X_train, Y_train, verbose=1, validation_data=(X_valid, Y_valid),batch_size=128, epochs=100, \n",
    "          callbacks=[EarlyStopping(patience=10, monitor=\"val_loss\", restore_best_weights=True), History()])"
   ]
  },
  {
   "cell_type": "code",
   "execution_count": 8,
   "id": "1000c120-dc23-4368-82ad-cc8214041728",
   "metadata": {},
   "outputs": [
    {
     "name": "stdout",
     "output_type": "stream",
     "text": [
      "157/157 [==============================] - 1s 5ms/step\n"
     ]
    },
    {
     "data": {
      "text/plain": [
       "0.99705"
      ]
     },
     "execution_count": 8,
     "metadata": {},
     "output_type": "execute_result"
    }
   ],
   "source": [
    "'''Evaluate the performance on test dataset (double check).'''\n",
    "pred = model.predict(X_test, batch_size=128)\n",
    "np.sum(pred.argmax(axis = 1) == Y_test) / len(Y_test)"
   ]
  },
  {
   "cell_type": "code",
   "execution_count": null,
   "id": "eea95b59-ed08-4d29-983b-576d573740f4",
   "metadata": {},
   "outputs": [],
   "source": []
  }
 ],
 "metadata": {
  "kernelspec": {
   "display_name": "Python 3 (ipykernel)",
   "language": "python",
   "name": "python3"
  },
  "language_info": {
   "codemirror_mode": {
    "name": "ipython",
    "version": 3
   },
   "file_extension": ".py",
   "mimetype": "text/x-python",
   "name": "python",
   "nbconvert_exporter": "python",
   "pygments_lexer": "ipython3",
   "version": "3.7.4"
  }
 },
 "nbformat": 4,
 "nbformat_minor": 5
}
