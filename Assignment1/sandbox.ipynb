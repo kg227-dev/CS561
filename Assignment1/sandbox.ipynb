{
 "cells": [
  {
   "cell_type": "code",
   "execution_count": 23,
   "metadata": {},
   "outputs": [],
   "source": [
    "import numpy as np"
   ]
  },
  {
   "cell_type": "code",
   "execution_count": 32,
   "metadata": {},
   "outputs": [],
   "source": [
    "x = \"GATTACA\"\n",
    "y = \"GAACA\"\n",
    "\n",
    "lenx = len(x)\n",
    "leny = len(y)"
   ]
  },
  {
   "cell_type": "code",
   "execution_count": 33,
   "metadata": {},
   "outputs": [
    {
     "data": {
      "text/plain": [
       "array([[ 0., -1., -2., -3., -4., -5.],\n",
       "       [-1.,  0.,  0.,  0.,  0.,  0.],\n",
       "       [-2.,  0.,  0.,  0.,  0.,  0.],\n",
       "       [-3.,  0.,  0.,  0.,  0.,  0.],\n",
       "       [-4.,  0.,  0.,  0.,  0.,  0.],\n",
       "       [-5.,  0.,  0.,  0.,  0.,  0.],\n",
       "       [-6.,  0.,  0.,  0.,  0.,  0.],\n",
       "       [-7.,  0.,  0.,  0.,  0.,  0.]])"
      ]
     },
     "execution_count": 33,
     "metadata": {},
     "output_type": "execute_result"
    }
   ],
   "source": [
    "F = np.zeros((lenx+1, leny+1))\n",
    "F[:,0] = np.linspace(0, -lenx * 1, lenx + 1)\n",
    "F[0,:] = np.linspace(0, -leny * 1, leny + 1)\n",
    "F"
   ]
  },
  {
   "cell_type": "code",
   "execution_count": 34,
   "metadata": {},
   "outputs": [
    {
     "data": {
      "text/plain": [
       "array([[4., 4., 4., 4., 4., 4.],\n",
       "       [3., 0., 0., 0., 0., 0.],\n",
       "       [3., 0., 0., 0., 0., 0.],\n",
       "       [3., 0., 0., 0., 0., 0.],\n",
       "       [3., 0., 0., 0., 0., 0.],\n",
       "       [3., 0., 0., 0., 0., 0.],\n",
       "       [3., 0., 0., 0., 0., 0.],\n",
       "       [3., 0., 0., 0., 0., 0.]])"
      ]
     },
     "execution_count": 34,
     "metadata": {},
     "output_type": "execute_result"
    }
   ],
   "source": [
    "P = np.zeros((lenx+1, leny+1))\n",
    "P[:,0]=3\n",
    "P[0,:]=4\n",
    "P"
   ]
  },
  {
   "cell_type": "code",
   "execution_count": 35,
   "metadata": {},
   "outputs": [
    {
     "data": {
      "text/plain": [
       "array([0., 0., 0.])"
      ]
     },
     "execution_count": 35,
     "metadata": {},
     "output_type": "execute_result"
    }
   ],
   "source": [
    "t = np.zeros(3)\n",
    "t"
   ]
  },
  {
   "cell_type": "code",
   "execution_count": null,
   "metadata": {},
   "outputs": [],
   "source": [
    "def mismatch_score(x, y):\n",
    "    if((x=='A') and (y=='G')) or ((x=='G') and (y=='A')):\n",
    "        mismatch = 1\n",
    "    elif((x=='C') and (y=='T')) or ((x=='T') and (y=='C')):\n",
    "        mismatch = 1\n",
    "    elif((x=='A') and (y=='T')) or ((x=='T') and (y=='A')):\n",
    "        mismatch = 4\n",
    "    elif((x=='C') and (y=='G')) or ((x=='G') and (y=='C')):\n",
    "        mismatch = 4\n",
    "    elif(x=='' and y==\"\"):\n",
    "        mismatch = 1\n",
    "    else:\n",
    "        mismatch = 2\n",
    "    return mismatch"
   ]
  },
  {
   "cell_type": "code",
   "execution_count": 36,
   "metadata": {},
   "outputs": [],
   "source": [
    "match = 5\n",
    "mismatch = 1\n",
    "gap =1\n",
    "for i in range(lenx):\n",
    "    for j in range(leny):\n",
    "        if x[i] == y[j]:\n",
    "            t[0] = F[i,j] + match\n",
    "        else:\n",
    "            t[0] = F[i,j] - mismatch_score(x[i], x[j])\n",
    "        t[1] = F[i,j+1] - gap\n",
    "        t[2] = F[i+1,j] - gap\n",
    "        tmax = np.max(t)\n",
    "        F[i+1,j+1] = tmax\n",
    "        if t[0] == tmax:\n",
    "            P[i+1,j+1] += 2\n",
    "        if t[1] == tmax:\n",
    "            P[i+1,j+1] += 3\n",
    "        if t[2] == tmax:\n",
    "            P[i+1,j+1] += 4"
   ]
  },
  {
   "cell_type": "code",
   "execution_count": 37,
   "metadata": {},
   "outputs": [
    {
     "data": {
      "text/plain": [
       "array([[4., 4., 4., 4., 4., 4.],\n",
       "       [3., 2., 4., 4., 4., 4.],\n",
       "       [3., 3., 2., 6., 4., 6.],\n",
       "       [3., 3., 3., 2., 6., 6.],\n",
       "       [3., 3., 3., 5., 2., 6.],\n",
       "       [3., 3., 5., 2., 4., 2.],\n",
       "       [3., 3., 3., 3., 2., 4.],\n",
       "       [3., 3., 5., 5., 3., 2.]])"
      ]
     },
     "execution_count": 37,
     "metadata": {},
     "output_type": "execute_result"
    }
   ],
   "source": [
    "P"
   ]
  },
  {
   "cell_type": "code",
   "execution_count": 38,
   "metadata": {},
   "outputs": [],
   "source": [
    "i = lenx\n",
    "j = leny\n",
    "rx=[]\n",
    "ry=[]\n",
    "while i > 0 or j > 0:\n",
    "    if P[i,j] in [2, 5, 6, 9]:\n",
    "        rx.append(x[i-1])\n",
    "        ry.append(y[j-1])\n",
    "        i -= 1\n",
    "        j -= 1\n",
    "    elif P[i,j] in [3, 5, 7, 9]:\n",
    "        rx.append(x[i-1])\n",
    "        ry.append('-')\n",
    "        i -= 1\n",
    "    elif P[i,j] in [4, 6, 7, 9]:\n",
    "        rx.append('-')\n",
    "        ry.append(y[j-1])\n",
    "        j -= 1"
   ]
  },
  {
   "cell_type": "code",
   "execution_count": 39,
   "metadata": {},
   "outputs": [
    {
     "data": {
      "text/plain": [
       "['A', 'C', 'A', 'T', 'T', 'A', 'G']"
      ]
     },
     "execution_count": 39,
     "metadata": {},
     "output_type": "execute_result"
    }
   ],
   "source": [
    "rx"
   ]
  },
  {
   "cell_type": "code",
   "execution_count": null,
   "metadata": {},
   "outputs": [],
   "source": []
  }
 ],
 "metadata": {
  "kernelspec": {
   "display_name": "Python 3",
   "language": "python",
   "name": "python3"
  },
  "language_info": {
   "codemirror_mode": {
    "name": "ipython",
    "version": 3
   },
   "file_extension": ".py",
   "mimetype": "text/x-python",
   "name": "python",
   "nbconvert_exporter": "python",
   "pygments_lexer": "ipython3",
   "version": "3.11.1"
  },
  "orig_nbformat": 4,
  "vscode": {
   "interpreter": {
    "hash": "1a1af0ee75eeea9e2e1ee996c87e7a2b11a0bebd85af04bb136d915cefc0abce"
   }
  }
 },
 "nbformat": 4,
 "nbformat_minor": 2
}
